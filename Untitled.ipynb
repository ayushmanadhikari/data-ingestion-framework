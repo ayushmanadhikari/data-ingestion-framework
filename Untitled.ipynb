{
 "cells": [
  {
   "cell_type": "code",
   "execution_count": 1,
   "id": "f9acf0e1",
   "metadata": {},
   "outputs": [],
   "source": [
    "import pyspark"
   ]
  },
  {
   "cell_type": "code",
   "execution_count": 2,
   "id": "3505e964",
   "metadata": {},
   "outputs": [],
   "source": [
    "from pyspark.sql.functions import from_json\n",
    "from pyspark import SQLContext\n",
    "from pyspark.sql import SparkSession"
   ]
  },
  {
   "cell_type": "code",
   "execution_count": 3,
   "id": "c3088a99",
   "metadata": {},
   "outputs": [],
   "source": [
    "CONS_KAFKA_SERVER = \"0.0.0.0:29092\"\n",
    "CONS_KAFKA_TOPIC = \"mysql_server.source_db.demo\""
   ]
  },
  {
   "cell_type": "code",
   "execution_count": 4,
   "id": "3adc1d63",
   "metadata": {},
   "outputs": [
    {
     "name": "stderr",
     "output_type": "stream",
     "text": [
      "23/03/05 13:33:59 WARN Utils: Your hostname, Ayushmans-MacBook-Air.local resolves to a loopback address: 127.0.0.1; using 192.168.1.67 instead (on interface en0)\n",
      "23/03/05 13:33:59 WARN Utils: Set SPARK_LOCAL_IP if you need to bind to another address\n",
      "Using Spark's default log4j profile: org/apache/spark/log4j-defaults.properties\n",
      "Setting default log level to \"WARN\".\n",
      "To adjust logging level use sc.setLogLevel(newLevel). For SparkR, use setLogLevel(newLevel).\n",
      "23/03/05 13:34:00 WARN NativeCodeLoader: Unable to load native-hadoop library for your platform... using builtin-java classes where applicable\n"
     ]
    }
   ],
   "source": [
    "spark = SparkSession.builder.appName(\"mysql_cdc\").getOrCreate()\n"
   ]
  },
  {
   "cell_type": "code",
   "execution_count": 10,
   "id": "550db241",
   "metadata": {},
   "outputs": [],
   "source": [
    "spark.sparkContext.setLogLevel(\"ALL\")"
   ]
  },
  {
   "cell_type": "code",
   "execution_count": 12,
   "id": "e6ea6cb9",
   "metadata": {},
   "outputs": [
    {
     "ename": "AnalysisException",
     "evalue": " Failed to find data source: kafka. Please deploy the application as per the deployment section of \"Structured Streaming + Kafka Integration Guide\".        ",
     "output_type": "error",
     "traceback": [
      "\u001b[0;31m---------------------------------------------------------------------------\u001b[0m",
      "\u001b[0;31mAnalysisException\u001b[0m                         Traceback (most recent call last)",
      "Input \u001b[0;32mIn [12]\u001b[0m, in \u001b[0;36m<module>\u001b[0;34m\u001b[0m\n\u001b[0;32m----> 1\u001b[0m streamingDf \u001b[38;5;241m=\u001b[39m \u001b[43mspark\u001b[49m\u001b[38;5;241;43m.\u001b[39;49m\u001b[43mreadStream\u001b[49m\u001b[38;5;241;43m.\u001b[39;49m\u001b[43mformat\u001b[49m\u001b[43m(\u001b[49m\u001b[38;5;124;43m\"\u001b[39;49m\u001b[38;5;124;43mkafka\u001b[39;49m\u001b[38;5;124;43m\"\u001b[39;49m\u001b[43m)\u001b[49m\u001b[38;5;241;43m.\u001b[39;49m\u001b[43moption\u001b[49m\u001b[43m(\u001b[49m\u001b[38;5;124;43m\"\u001b[39;49m\u001b[38;5;124;43mkafka.bootstrap.servers\u001b[39;49m\u001b[38;5;124;43m\"\u001b[39;49m\u001b[43m,\u001b[49m\u001b[43m \u001b[49m\u001b[43mCONS_KAFKA_SERVER\u001b[49m\u001b[43m)\u001b[49m\u001b[38;5;241;43m.\u001b[39;49m\u001b[43moption\u001b[49m\u001b[43m(\u001b[49m\u001b[38;5;124;43m\"\u001b[39;49m\u001b[38;5;124;43msubscribe\u001b[39;49m\u001b[38;5;124;43m\"\u001b[39;49m\u001b[43m,\u001b[49m\u001b[43m \u001b[49m\u001b[43mCONS_KAFKA_TOPIC\u001b[49m\u001b[43m)\u001b[49m\u001b[38;5;241;43m.\u001b[39;49m\u001b[43mload\u001b[49m\u001b[43m(\u001b[49m\u001b[43m)\u001b[49m\n",
      "File \u001b[0;32m/opt/homebrew/lib/python3.9/site-packages/pyspark/sql/streaming.py:454\u001b[0m, in \u001b[0;36mDataStreamReader.load\u001b[0;34m(self, path, format, schema, **options)\u001b[0m\n\u001b[1;32m    452\u001b[0m     \u001b[38;5;28;01mreturn\u001b[39;00m \u001b[38;5;28mself\u001b[39m\u001b[38;5;241m.\u001b[39m_df(\u001b[38;5;28mself\u001b[39m\u001b[38;5;241m.\u001b[39m_jreader\u001b[38;5;241m.\u001b[39mload(path))\n\u001b[1;32m    453\u001b[0m \u001b[38;5;28;01melse\u001b[39;00m:\n\u001b[0;32m--> 454\u001b[0m     \u001b[38;5;28;01mreturn\u001b[39;00m \u001b[38;5;28mself\u001b[39m\u001b[38;5;241m.\u001b[39m_df(\u001b[38;5;28;43mself\u001b[39;49m\u001b[38;5;241;43m.\u001b[39;49m\u001b[43m_jreader\u001b[49m\u001b[38;5;241;43m.\u001b[39;49m\u001b[43mload\u001b[49m\u001b[43m(\u001b[49m\u001b[43m)\u001b[49m)\n",
      "File \u001b[0;32m/opt/homebrew/lib/python3.9/site-packages/py4j/java_gateway.py:1321\u001b[0m, in \u001b[0;36mJavaMember.__call__\u001b[0;34m(self, *args)\u001b[0m\n\u001b[1;32m   1315\u001b[0m command \u001b[38;5;241m=\u001b[39m proto\u001b[38;5;241m.\u001b[39mCALL_COMMAND_NAME \u001b[38;5;241m+\u001b[39m\\\n\u001b[1;32m   1316\u001b[0m     \u001b[38;5;28mself\u001b[39m\u001b[38;5;241m.\u001b[39mcommand_header \u001b[38;5;241m+\u001b[39m\\\n\u001b[1;32m   1317\u001b[0m     args_command \u001b[38;5;241m+\u001b[39m\\\n\u001b[1;32m   1318\u001b[0m     proto\u001b[38;5;241m.\u001b[39mEND_COMMAND_PART\n\u001b[1;32m   1320\u001b[0m answer \u001b[38;5;241m=\u001b[39m \u001b[38;5;28mself\u001b[39m\u001b[38;5;241m.\u001b[39mgateway_client\u001b[38;5;241m.\u001b[39msend_command(command)\n\u001b[0;32m-> 1321\u001b[0m return_value \u001b[38;5;241m=\u001b[39m \u001b[43mget_return_value\u001b[49m\u001b[43m(\u001b[49m\n\u001b[1;32m   1322\u001b[0m \u001b[43m    \u001b[49m\u001b[43manswer\u001b[49m\u001b[43m,\u001b[49m\u001b[43m \u001b[49m\u001b[38;5;28;43mself\u001b[39;49m\u001b[38;5;241;43m.\u001b[39;49m\u001b[43mgateway_client\u001b[49m\u001b[43m,\u001b[49m\u001b[43m \u001b[49m\u001b[38;5;28;43mself\u001b[39;49m\u001b[38;5;241;43m.\u001b[39;49m\u001b[43mtarget_id\u001b[49m\u001b[43m,\u001b[49m\u001b[43m \u001b[49m\u001b[38;5;28;43mself\u001b[39;49m\u001b[38;5;241;43m.\u001b[39;49m\u001b[43mname\u001b[49m\u001b[43m)\u001b[49m\n\u001b[1;32m   1324\u001b[0m \u001b[38;5;28;01mfor\u001b[39;00m temp_arg \u001b[38;5;129;01min\u001b[39;00m temp_args:\n\u001b[1;32m   1325\u001b[0m     temp_arg\u001b[38;5;241m.\u001b[39m_detach()\n",
      "File \u001b[0;32m/opt/homebrew/lib/python3.9/site-packages/pyspark/sql/utils.py:117\u001b[0m, in \u001b[0;36mcapture_sql_exception.<locals>.deco\u001b[0;34m(*a, **kw)\u001b[0m\n\u001b[1;32m    113\u001b[0m converted \u001b[38;5;241m=\u001b[39m convert_exception(e\u001b[38;5;241m.\u001b[39mjava_exception)\n\u001b[1;32m    114\u001b[0m \u001b[38;5;28;01mif\u001b[39;00m \u001b[38;5;129;01mnot\u001b[39;00m \u001b[38;5;28misinstance\u001b[39m(converted, UnknownException):\n\u001b[1;32m    115\u001b[0m     \u001b[38;5;66;03m# Hide where the exception came from that shows a non-Pythonic\u001b[39;00m\n\u001b[1;32m    116\u001b[0m     \u001b[38;5;66;03m# JVM exception message.\u001b[39;00m\n\u001b[0;32m--> 117\u001b[0m     \u001b[38;5;28;01mraise\u001b[39;00m converted \u001b[38;5;28;01mfrom\u001b[39;00m \u001b[38;5;28mNone\u001b[39m\n\u001b[1;32m    118\u001b[0m \u001b[38;5;28;01melse\u001b[39;00m:\n\u001b[1;32m    119\u001b[0m     \u001b[38;5;28;01mraise\u001b[39;00m\n",
      "\u001b[0;31mAnalysisException\u001b[0m:  Failed to find data source: kafka. Please deploy the application as per the deployment section of \"Structured Streaming + Kafka Integration Guide\".        "
     ]
    },
    {
     "name": "stderr",
     "output_type": "stream",
     "text": [
      "23/03/05 13:46:00 TRACE HeartbeatReceiver: Checking for hosts with no recent heartbeats in HeartbeatReceiver.\n",
      "23/03/05 13:47:00 TRACE HeartbeatReceiver: Checking for hosts with no recent heartbeats in HeartbeatReceiver.\n",
      "23/03/05 13:48:00 TRACE HeartbeatReceiver: Checking for hosts with no recent heartbeats in HeartbeatReceiver.\n",
      "23/03/05 13:49:00 TRACE HeartbeatReceiver: Checking for hosts with no recent heartbeats in HeartbeatReceiver.\n",
      "23/03/05 13:50:00 TRACE HeartbeatReceiver: Checking for hosts with no recent heartbeats in HeartbeatReceiver.\n",
      "23/03/05 13:51:00 TRACE HeartbeatReceiver: Checking for hosts with no recent heartbeats in HeartbeatReceiver.\n",
      "23/03/05 13:52:00 TRACE HeartbeatReceiver: Checking for hosts with no recent heartbeats in HeartbeatReceiver.\n",
      "23/03/05 13:53:00 TRACE HeartbeatReceiver: Checking for hosts with no recent heartbeats in HeartbeatReceiver.\n",
      "23/03/05 13:54:00 TRACE HeartbeatReceiver: Checking for hosts with no recent heartbeats in HeartbeatReceiver.\n",
      "23/03/05 13:55:00 TRACE HeartbeatReceiver: Checking for hosts with no recent heartbeats in HeartbeatReceiver.\n",
      "23/03/05 13:56:00 TRACE HeartbeatReceiver: Checking for hosts with no recent heartbeats in HeartbeatReceiver.\n",
      "23/03/05 13:57:00 TRACE HeartbeatReceiver: Checking for hosts with no recent heartbeats in HeartbeatReceiver.\n",
      "23/03/05 13:58:00 TRACE HeartbeatReceiver: Checking for hosts with no recent heartbeats in HeartbeatReceiver.\n",
      "23/03/05 13:59:00 TRACE HeartbeatReceiver: Checking for hosts with no recent heartbeats in HeartbeatReceiver.\n",
      "23/03/05 14:00:00 TRACE HeartbeatReceiver: Checking for hosts with no recent heartbeats in HeartbeatReceiver.\n",
      "23/03/05 14:01:00 TRACE HeartbeatReceiver: Checking for hosts with no recent heartbeats in HeartbeatReceiver.\n",
      "23/03/05 14:02:00 TRACE HeartbeatReceiver: Checking for hosts with no recent heartbeats in HeartbeatReceiver.\n",
      "23/03/05 14:03:00 TRACE HeartbeatReceiver: Checking for hosts with no recent heartbeats in HeartbeatReceiver.\n",
      "23/03/05 14:04:00 TRACE HeartbeatReceiver: Checking for hosts with no recent heartbeats in HeartbeatReceiver.\n",
      "23/03/05 14:05:00 TRACE HeartbeatReceiver: Checking for hosts with no recent heartbeats in HeartbeatReceiver.\n",
      "23/03/05 14:06:00 TRACE HeartbeatReceiver: Checking for hosts with no recent heartbeats in HeartbeatReceiver.\n",
      "23/03/05 14:07:00 TRACE HeartbeatReceiver: Checking for hosts with no recent heartbeats in HeartbeatReceiver.\n",
      "23/03/05 14:08:00 TRACE HeartbeatReceiver: Checking for hosts with no recent heartbeats in HeartbeatReceiver.\n",
      "23/03/05 14:09:00 TRACE HeartbeatReceiver: Checking for hosts with no recent heartbeats in HeartbeatReceiver.\n",
      "23/03/05 14:10:00 TRACE HeartbeatReceiver: Checking for hosts with no recent heartbeats in HeartbeatReceiver.\n",
      "23/03/05 14:11:00 TRACE HeartbeatReceiver: Checking for hosts with no recent heartbeats in HeartbeatReceiver.\n",
      "23/03/05 14:12:00 TRACE HeartbeatReceiver: Checking for hosts with no recent heartbeats in HeartbeatReceiver.\n",
      "23/03/05 14:13:00 TRACE HeartbeatReceiver: Checking for hosts with no recent heartbeats in HeartbeatReceiver.\n",
      "23/03/05 14:14:00 TRACE HeartbeatReceiver: Checking for hosts with no recent heartbeats in HeartbeatReceiver.\n",
      "23/03/05 14:15:00 TRACE HeartbeatReceiver: Checking for hosts with no recent heartbeats in HeartbeatReceiver.\n",
      "23/03/05 14:16:00 TRACE HeartbeatReceiver: Checking for hosts with no recent heartbeats in HeartbeatReceiver.\n",
      "23/03/05 14:17:00 TRACE HeartbeatReceiver: Checking for hosts with no recent heartbeats in HeartbeatReceiver.\n",
      "23/03/05 14:18:00 TRACE HeartbeatReceiver: Checking for hosts with no recent heartbeats in HeartbeatReceiver.\n",
      "23/03/05 14:19:00 TRACE HeartbeatReceiver: Checking for hosts with no recent heartbeats in HeartbeatReceiver.\n",
      "23/03/05 14:20:00 TRACE HeartbeatReceiver: Checking for hosts with no recent heartbeats in HeartbeatReceiver.\n",
      "23/03/05 14:21:00 TRACE HeartbeatReceiver: Checking for hosts with no recent heartbeats in HeartbeatReceiver.\n",
      "23/03/05 14:22:00 TRACE HeartbeatReceiver: Checking for hosts with no recent heartbeats in HeartbeatReceiver.\n",
      "23/03/05 14:23:00 TRACE HeartbeatReceiver: Checking for hosts with no recent heartbeats in HeartbeatReceiver.\n",
      "23/03/05 14:24:00 TRACE HeartbeatReceiver: Checking for hosts with no recent heartbeats in HeartbeatReceiver.\n",
      "23/03/05 14:25:00 TRACE HeartbeatReceiver: Checking for hosts with no recent heartbeats in HeartbeatReceiver.\n",
      "23/03/05 14:26:00 TRACE HeartbeatReceiver: Checking for hosts with no recent heartbeats in HeartbeatReceiver.\n",
      "23/03/05 14:27:00 TRACE HeartbeatReceiver: Checking for hosts with no recent heartbeats in HeartbeatReceiver.\n",
      "23/03/05 14:28:00 TRACE HeartbeatReceiver: Checking for hosts with no recent heartbeats in HeartbeatReceiver.\n",
      "23/03/05 14:29:00 TRACE HeartbeatReceiver: Checking for hosts with no recent heartbeats in HeartbeatReceiver.\n",
      "23/03/05 14:30:00 TRACE HeartbeatReceiver: Checking for hosts with no recent heartbeats in HeartbeatReceiver.\n",
      "23/03/05 14:31:00 TRACE HeartbeatReceiver: Checking for hosts with no recent heartbeats in HeartbeatReceiver.\n",
      "23/03/05 14:32:00 TRACE HeartbeatReceiver: Checking for hosts with no recent heartbeats in HeartbeatReceiver.\n",
      "23/03/05 14:33:00 TRACE HeartbeatReceiver: Checking for hosts with no recent heartbeats in HeartbeatReceiver.\n",
      "23/03/05 14:34:00 TRACE HeartbeatReceiver: Checking for hosts with no recent heartbeats in HeartbeatReceiver.\n",
      "23/03/05 14:35:00 TRACE HeartbeatReceiver: Checking for hosts with no recent heartbeats in HeartbeatReceiver.\n",
      "23/03/05 14:36:00 TRACE HeartbeatReceiver: Checking for hosts with no recent heartbeats in HeartbeatReceiver.\n",
      "23/03/05 14:37:00 TRACE HeartbeatReceiver: Checking for hosts with no recent heartbeats in HeartbeatReceiver.\n",
      "23/03/05 14:38:00 TRACE HeartbeatReceiver: Checking for hosts with no recent heartbeats in HeartbeatReceiver.\n",
      "23/03/05 14:39:00 TRACE HeartbeatReceiver: Checking for hosts with no recent heartbeats in HeartbeatReceiver.\n",
      "23/03/05 14:40:00 TRACE HeartbeatReceiver: Checking for hosts with no recent heartbeats in HeartbeatReceiver.\n",
      "23/03/05 14:41:00 TRACE HeartbeatReceiver: Checking for hosts with no recent heartbeats in HeartbeatReceiver.\n",
      "23/03/05 14:42:00 TRACE HeartbeatReceiver: Checking for hosts with no recent heartbeats in HeartbeatReceiver.\n",
      "23/03/05 14:43:00 TRACE HeartbeatReceiver: Checking for hosts with no recent heartbeats in HeartbeatReceiver.\n",
      "23/03/05 14:44:00 TRACE HeartbeatReceiver: Checking for hosts with no recent heartbeats in HeartbeatReceiver.\n",
      "23/03/05 14:45:00 TRACE HeartbeatReceiver: Checking for hosts with no recent heartbeats in HeartbeatReceiver.\n",
      "23/03/05 14:46:00 TRACE HeartbeatReceiver: Checking for hosts with no recent heartbeats in HeartbeatReceiver.\n",
      "23/03/05 14:47:00 TRACE HeartbeatReceiver: Checking for hosts with no recent heartbeats in HeartbeatReceiver.\n",
      "23/03/05 14:48:00 TRACE HeartbeatReceiver: Checking for hosts with no recent heartbeats in HeartbeatReceiver.\n",
      "23/03/05 14:49:00 TRACE HeartbeatReceiver: Checking for hosts with no recent heartbeats in HeartbeatReceiver.\n",
      "23/03/05 14:50:00 TRACE HeartbeatReceiver: Checking for hosts with no recent heartbeats in HeartbeatReceiver.\n",
      "23/03/05 14:51:00 TRACE HeartbeatReceiver: Checking for hosts with no recent heartbeats in HeartbeatReceiver.\n",
      "23/03/05 14:52:00 TRACE HeartbeatReceiver: Checking for hosts with no recent heartbeats in HeartbeatReceiver.\n",
      "23/03/05 14:53:00 TRACE HeartbeatReceiver: Checking for hosts with no recent heartbeats in HeartbeatReceiver.\n",
      "23/03/05 14:54:00 TRACE HeartbeatReceiver: Checking for hosts with no recent heartbeats in HeartbeatReceiver.\n",
      "23/03/05 14:55:00 TRACE HeartbeatReceiver: Checking for hosts with no recent heartbeats in HeartbeatReceiver.\n",
      "23/03/05 14:56:00 TRACE HeartbeatReceiver: Checking for hosts with no recent heartbeats in HeartbeatReceiver.\n",
      "23/03/05 14:57:00 TRACE HeartbeatReceiver: Checking for hosts with no recent heartbeats in HeartbeatReceiver.\n",
      "23/03/05 14:58:00 TRACE HeartbeatReceiver: Checking for hosts with no recent heartbeats in HeartbeatReceiver.\n",
      "23/03/05 14:59:00 TRACE HeartbeatReceiver: Checking for hosts with no recent heartbeats in HeartbeatReceiver.\n",
      "23/03/05 15:00:00 TRACE HeartbeatReceiver: Checking for hosts with no recent heartbeats in HeartbeatReceiver.\n"
     ]
    },
    {
     "name": "stderr",
     "output_type": "stream",
     "text": [
      "23/03/05 15:01:00 TRACE HeartbeatReceiver: Checking for hosts with no recent heartbeats in HeartbeatReceiver.\n",
      "23/03/05 15:02:00 TRACE HeartbeatReceiver: Checking for hosts with no recent heartbeats in HeartbeatReceiver.\n",
      "23/03/05 15:03:00 TRACE HeartbeatReceiver: Checking for hosts with no recent heartbeats in HeartbeatReceiver.\n",
      "23/03/05 15:04:00 TRACE HeartbeatReceiver: Checking for hosts with no recent heartbeats in HeartbeatReceiver.\n",
      "23/03/05 15:05:00 TRACE HeartbeatReceiver: Checking for hosts with no recent heartbeats in HeartbeatReceiver.\n",
      "23/03/05 15:06:00 TRACE HeartbeatReceiver: Checking for hosts with no recent heartbeats in HeartbeatReceiver.\n",
      "23/03/05 15:07:00 TRACE HeartbeatReceiver: Checking for hosts with no recent heartbeats in HeartbeatReceiver.\n",
      "23/03/05 15:08:00 TRACE HeartbeatReceiver: Checking for hosts with no recent heartbeats in HeartbeatReceiver.\n",
      "23/03/05 15:09:00 TRACE HeartbeatReceiver: Checking for hosts with no recent heartbeats in HeartbeatReceiver.\n",
      "23/03/05 15:10:00 TRACE HeartbeatReceiver: Checking for hosts with no recent heartbeats in HeartbeatReceiver.\n",
      "23/03/05 15:11:00 TRACE HeartbeatReceiver: Checking for hosts with no recent heartbeats in HeartbeatReceiver.\n",
      "23/03/05 15:12:00 TRACE HeartbeatReceiver: Checking for hosts with no recent heartbeats in HeartbeatReceiver.\n",
      "23/03/05 15:13:00 TRACE HeartbeatReceiver: Checking for hosts with no recent heartbeats in HeartbeatReceiver.\n",
      "23/03/05 15:14:00 TRACE HeartbeatReceiver: Checking for hosts with no recent heartbeats in HeartbeatReceiver.\n",
      "23/03/05 15:15:00 TRACE HeartbeatReceiver: Checking for hosts with no recent heartbeats in HeartbeatReceiver.\n",
      "23/03/05 15:16:00 TRACE HeartbeatReceiver: Checking for hosts with no recent heartbeats in HeartbeatReceiver.\n",
      "23/03/05 15:17:00 TRACE HeartbeatReceiver: Checking for hosts with no recent heartbeats in HeartbeatReceiver.\n",
      "23/03/05 15:18:00 TRACE HeartbeatReceiver: Checking for hosts with no recent heartbeats in HeartbeatReceiver.\n",
      "23/03/05 15:19:00 TRACE HeartbeatReceiver: Checking for hosts with no recent heartbeats in HeartbeatReceiver.\n",
      "23/03/05 15:20:00 TRACE HeartbeatReceiver: Checking for hosts with no recent heartbeats in HeartbeatReceiver.\n",
      "23/03/05 15:21:00 TRACE HeartbeatReceiver: Checking for hosts with no recent heartbeats in HeartbeatReceiver.\n",
      "23/03/05 15:22:00 TRACE HeartbeatReceiver: Checking for hosts with no recent heartbeats in HeartbeatReceiver.\n",
      "23/03/05 15:23:00 TRACE HeartbeatReceiver: Checking for hosts with no recent heartbeats in HeartbeatReceiver.\n",
      "23/03/05 15:24:00 TRACE HeartbeatReceiver: Checking for hosts with no recent heartbeats in HeartbeatReceiver.\n",
      "23/03/05 15:25:00 TRACE HeartbeatReceiver: Checking for hosts with no recent heartbeats in HeartbeatReceiver.\n",
      "23/03/05 15:26:00 TRACE HeartbeatReceiver: Checking for hosts with no recent heartbeats in HeartbeatReceiver.\n",
      "23/03/05 15:27:00 TRACE HeartbeatReceiver: Checking for hosts with no recent heartbeats in HeartbeatReceiver.\n",
      "23/03/05 15:28:00 TRACE HeartbeatReceiver: Checking for hosts with no recent heartbeats in HeartbeatReceiver.\n",
      "23/03/05 15:29:00 TRACE HeartbeatReceiver: Checking for hosts with no recent heartbeats in HeartbeatReceiver.\n",
      "23/03/05 15:30:00 TRACE HeartbeatReceiver: Checking for hosts with no recent heartbeats in HeartbeatReceiver.\n",
      "23/03/05 15:31:00 TRACE HeartbeatReceiver: Checking for hosts with no recent heartbeats in HeartbeatReceiver.\n",
      "23/03/05 15:32:00 TRACE HeartbeatReceiver: Checking for hosts with no recent heartbeats in HeartbeatReceiver.\n",
      "23/03/05 15:33:00 TRACE HeartbeatReceiver: Checking for hosts with no recent heartbeats in HeartbeatReceiver.\n",
      "23/03/05 15:34:00 TRACE HeartbeatReceiver: Checking for hosts with no recent heartbeats in HeartbeatReceiver.\n",
      "23/03/05 15:35:00 TRACE HeartbeatReceiver: Checking for hosts with no recent heartbeats in HeartbeatReceiver.\n",
      "23/03/05 15:36:00 TRACE HeartbeatReceiver: Checking for hosts with no recent heartbeats in HeartbeatReceiver.\n",
      "23/03/05 15:37:00 TRACE HeartbeatReceiver: Checking for hosts with no recent heartbeats in HeartbeatReceiver.\n",
      "23/03/05 15:38:00 TRACE HeartbeatReceiver: Checking for hosts with no recent heartbeats in HeartbeatReceiver.\n",
      "23/03/05 15:39:00 TRACE HeartbeatReceiver: Checking for hosts with no recent heartbeats in HeartbeatReceiver.\n",
      "23/03/05 15:40:00 TRACE HeartbeatReceiver: Checking for hosts with no recent heartbeats in HeartbeatReceiver.\n",
      "23/03/05 15:41:00 TRACE HeartbeatReceiver: Checking for hosts with no recent heartbeats in HeartbeatReceiver.\n",
      "23/03/05 15:42:00 TRACE HeartbeatReceiver: Checking for hosts with no recent heartbeats in HeartbeatReceiver.\n",
      "23/03/05 15:43:00 TRACE HeartbeatReceiver: Checking for hosts with no recent heartbeats in HeartbeatReceiver.\n",
      "23/03/05 15:44:00 TRACE HeartbeatReceiver: Checking for hosts with no recent heartbeats in HeartbeatReceiver.\n",
      "23/03/05 15:45:00 TRACE HeartbeatReceiver: Checking for hosts with no recent heartbeats in HeartbeatReceiver.\n",
      "23/03/05 15:46:00 TRACE HeartbeatReceiver: Checking for hosts with no recent heartbeats in HeartbeatReceiver.\n",
      "23/03/05 15:47:00 TRACE HeartbeatReceiver: Checking for hosts with no recent heartbeats in HeartbeatReceiver.\n",
      "23/03/05 15:48:00 TRACE HeartbeatReceiver: Checking for hosts with no recent heartbeats in HeartbeatReceiver.\n",
      "23/03/05 15:49:00 TRACE HeartbeatReceiver: Checking for hosts with no recent heartbeats in HeartbeatReceiver.\n",
      "23/03/05 15:50:00 TRACE HeartbeatReceiver: Checking for hosts with no recent heartbeats in HeartbeatReceiver.\n",
      "23/03/05 15:51:00 TRACE HeartbeatReceiver: Checking for hosts with no recent heartbeats in HeartbeatReceiver.\n",
      "23/03/05 15:52:00 TRACE HeartbeatReceiver: Checking for hosts with no recent heartbeats in HeartbeatReceiver.\n",
      "23/03/05 15:53:00 TRACE HeartbeatReceiver: Checking for hosts with no recent heartbeats in HeartbeatReceiver.\n",
      "23/03/05 15:54:00 TRACE HeartbeatReceiver: Checking for hosts with no recent heartbeats in HeartbeatReceiver.\n",
      "23/03/05 15:55:00 TRACE HeartbeatReceiver: Checking for hosts with no recent heartbeats in HeartbeatReceiver.\n",
      "23/03/05 15:56:00 TRACE HeartbeatReceiver: Checking for hosts with no recent heartbeats in HeartbeatReceiver.\n",
      "23/03/05 15:57:00 TRACE HeartbeatReceiver: Checking for hosts with no recent heartbeats in HeartbeatReceiver.\n"
     ]
    }
   ],
   "source": [
    "streamingDf = spark.readStream.format(\"kafka\").option(\"kafka.bootstrap.servers\", CONS_KAFKA_SERVER).option(\"subscribe\", CONS_KAFKA_TOPIC).load()"
   ]
  },
  {
   "cell_type": "code",
   "execution_count": null,
   "id": "b2b64022",
   "metadata": {},
   "outputs": [],
   "source": []
  }
 ],
 "metadata": {
  "kernelspec": {
   "display_name": "Python 3 (ipykernel)",
   "language": "python",
   "name": "python3"
  },
  "language_info": {
   "codemirror_mode": {
    "name": "ipython",
    "version": 3
   },
   "file_extension": ".py",
   "mimetype": "text/x-python",
   "name": "python",
   "nbconvert_exporter": "python",
   "pygments_lexer": "ipython3",
   "version": "3.9.16"
  }
 },
 "nbformat": 4,
 "nbformat_minor": 5
}
